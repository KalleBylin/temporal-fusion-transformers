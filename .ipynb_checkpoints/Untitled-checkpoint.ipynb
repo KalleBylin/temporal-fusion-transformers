{
 "cells": [
  {
   "cell_type": "code",
   "execution_count": 1,
   "metadata": {},
   "outputs": [],
   "source": [
    "import random\n",
    "import numpy as np\n",
    "import pandas as pd\n",
    "\n",
    "import matplotlib.pyplot as plt\n",
    "%matplotlib inline"
   ]
  },
  {
   "cell_type": "code",
   "execution_count": 2,
   "metadata": {},
   "outputs": [],
   "source": [
    "class WebTrafficGenerator:\n",
    "    def __init__(self, start_date='2021-01-01', end_date='2022-12-31', trend_base=10, \n",
    "                 weekly_seasonality=True, yearly_seasonality=True):\n",
    "        self.dates = dates = pd.date_range(start=start_date, end=end_date, freq='D')\n",
    "        self.trend_base = trend_base\n",
    "        self.weekly_seasonality = weekly_seasonality\n",
    "        self.yearly_seasonality = yearly_seasonality\n",
    "        self.web_traffic = []\n",
    "        \n",
    "    def generate_data(self):\n",
    "        \n",
    "        day = 24 * 60 * 60\n",
    "        week = day * 7\n",
    "        year = 365.2425 * day\n",
    "        \n",
    "        if self.yearly_seasonality:\n",
    "            yearly = ((1 + np.sin(self.dates.astype('int64') // 1e9 * (2 * np.pi / year))).values * 100).astype(int)\n",
    "        else:\n",
    "            yearly = 0\n",
    "            \n",
    "        if self.weekly_seasonality:\n",
    "            weekly = ((1 + np.sin(self.dates.astype('int64') // 1e9 * (2 * np.pi / week))).values * 10).astype(int)\n",
    "        else:\n",
    "            weekly = 0\n",
    "            \n",
    "        trend = np.array(range(len(self.dates)))\n",
    "        noise = ((np.random.random(len(self.dates))-0.5)*20).astype(int)\n",
    "\n",
    "        return trend+yearly+weekly+noise\n",
    "        "
   ]
  },
  {
   "cell_type": "code",
   "execution_count": 3,
   "metadata": {},
   "outputs": [
    {
     "name": "stderr",
     "output_type": "stream",
     "text": [
      "<ipython-input-2-4e689e9c19db>:17: FutureWarning: casting datetime64[ns] values to int64 with .astype(...) is deprecated and will raise in a future version. Use .view(...) instead.\n",
      "  yearly = ((1 + np.sin(self.dates.astype('int64') // 1e9 * (2 * np.pi / year))).values * 100).astype(int)\n",
      "<ipython-input-2-4e689e9c19db>:22: FutureWarning: casting datetime64[ns] values to int64 with .astype(...) is deprecated and will raise in a future version. Use .view(...) instead.\n",
      "  weekly = ((1 + np.sin(self.dates.astype('int64') // 1e9 * (2 * np.pi / week))).values * 10).astype(int)\n"
     ]
    }
   ],
   "source": [
    "gen = WebTrafficGenerator()\n",
    "\n",
    "visits = gen.generate_data()"
   ]
  },
  {
   "cell_type": "code",
   "execution_count": 4,
   "metadata": {},
   "outputs": [
    {
     "data": {
      "image/png": "[encoded data removed]",
      "text/plain": [
       "<Figure size 432x288 with 1 Axes>"
      ]
     },
     "metadata": {
      "needs_background": "light"
     },
     "output_type": "display_data"
    }
   ],
   "source": [
    "plt.plot(gen.dates, visits)\n",
    "plt.xticks(rotation=90);"
   ]
  },
  {
   "cell_type": "markdown",
   "metadata": {},
   "source": [
    "https://www.jessicayung.com/generating-autoregressive-data-for-experiments/"
   ]
  },
  {
   "cell_type": "code",
   "execution_count": 10,
   "metadata": {},
   "outputs": [
    {
     "ename": "NameError",
     "evalue": "name 'TimeSeriesData' is not defined",
     "output_type": "error",
     "traceback": [
      "\u001b[1;31m---------------------------------------------------------------------------\u001b[0m",
      "\u001b[1;31mNameError\u001b[0m                                 Traceback (most recent call last)",
      "\u001b[1;32m<ipython-input-10-c62e578ae630>\u001b[0m in \u001b[0;36m<module>\u001b[1;34m\u001b[0m\n\u001b[1;32m----> 1\u001b[1;33m \u001b[1;32mclass\u001b[0m \u001b[0mARData\u001b[0m\u001b[1;33m(\u001b[0m\u001b[0mTimeSeriesData\u001b[0m\u001b[1;33m)\u001b[0m\u001b[1;33m:\u001b[0m\u001b[1;33m\u001b[0m\u001b[1;33m\u001b[0m\u001b[0m\n\u001b[0m\u001b[0;32m      2\u001b[0m     \u001b[1;34m\"\"\"Class to generate autoregressive data.\"\"\"\u001b[0m\u001b[1;33m\u001b[0m\u001b[1;33m\u001b[0m\u001b[0m\n\u001b[0;32m      3\u001b[0m \u001b[1;33m\u001b[0m\u001b[0m\n\u001b[0;32m      4\u001b[0m     \u001b[1;32mdef\u001b[0m \u001b[0m__init__\u001b[0m\u001b[1;33m(\u001b[0m\u001b[0mself\u001b[0m\u001b[1;33m,\u001b[0m \u001b[1;33m*\u001b[0m\u001b[0margs\u001b[0m\u001b[1;33m,\u001b[0m \u001b[0mcoeffs\u001b[0m\u001b[1;33m=\u001b[0m\u001b[1;32mNone\u001b[0m\u001b[1;33m,\u001b[0m \u001b[1;33m**\u001b[0m\u001b[0mkwargs\u001b[0m\u001b[1;33m)\u001b[0m\u001b[1;33m:\u001b[0m\u001b[1;33m\u001b[0m\u001b[1;33m\u001b[0m\u001b[0m\n\u001b[0;32m      5\u001b[0m         \u001b[0mself\u001b[0m\u001b[1;33m.\u001b[0m\u001b[0mgiven_coeffs\u001b[0m \u001b[1;33m=\u001b[0m \u001b[0mcoeffs\u001b[0m\u001b[1;33m\u001b[0m\u001b[1;33m\u001b[0m\u001b[0m\n",
      "\u001b[1;31mNameError\u001b[0m: name 'TimeSeriesData' is not defined"
     ]
    }
   ],
   "source": [
    "\"\"\"\n",
    "Code to generate autoregressive data.\n",
    "Blog post: http://www.jessicayung.com/generating-autoregressive-data-for-experiments=\n",
    "Author: Jessiac Yung\n",
    "Sept 2018\n",
    "\"\"\"\n",
    "import numpy as np\n",
    "from sklearn.model_selection import train_test_split\n",
    "\n",
    "class TimeSeriesData:\n",
    "    def __init__(self, num_datapoints, test_size=0.2, max_t=20, num_prev=1,\n",
    "                 noise_var=1):\n",
    "        \"\"\"\n",
    "        Template class for generating time series data.\n",
    "        :param test_size: in (0,1), data to be used in test set as a fraction of all data generated.\n",
    "        \"\"\"\n",
    "        self.num_datapoints = num_datapoints\n",
    "        self.test_size = test_size\n",
    "        self.num_prev = num_prev\n",
    "        self.max_t = max_t\n",
    "        self.data = None\n",
    "        self.noise_var = noise_var\n",
    "        self.y = np.zeros(num_datapoints + num_prev*4) # TODO: check this\n",
    "        self.bayes_preds = np.copy(self.y)\n",
    "\n",
    "        # Generate data and reshape data\n",
    "        self.create_data()\n",
    "\n",
    "        # Split into training and test sets\n",
    "        self.train_test_split()\n",
    "\n",
    "    def create_data(self):\n",
    "        self.generate_data()\n",
    "        self.reshape_data()\n",
    "\n",
    "    def generate_data(self):\n",
    "        \"\"\"Generates data in self.y, may take as implicit input timesteps self.t.\n",
    "        May also generate Bayes predictions.\"\"\"\n",
    "        raise NotImplementedError(\"Generate data method not implemented.\")\n",
    "\n",
    "    def reshape_data(self):\n",
    "        self.x = np.reshape([self.y[i:i + self.num_prev] for i in range(\n",
    "            self.num_datapoints)], (-1, self.num_prev))\n",
    "        self.y = np.copy(self.y[self.num_prev:])\n",
    "        self.bayes_preds = np.copy(self.bayes_preds[self.num_prev:])\n",
    "\n",
    "    def train_test_split(self):\n",
    "        test_size = int(len(self.y) * self.test_size)\n",
    "        self.data = [self.X_train, self.X_test, self.y_train,\n",
    "                     self.y_test] = \\\n",
    "                    self.x[:-test_size], self.x[-test_size:], \\\n",
    "                    self.y[:-test_size], self.y[-test_size:]\n",
    "        self.bayes_preds = [self.bayes_train_preds, self.bayes_test_preds] = self.bayes_preds[:-test_size], self.bayes_preds[-test_size:]\n",
    "\n",
    "    def return_data(self):\n",
    "        return self.data\n",
    "\n",
    "    def return_train_test(self):\n",
    "        return self.X_train, self.y_train, self.X_test, self.y_test\n",
    "\n",
    "class ARData(TimeSeriesData):\n",
    "    \"\"\"Class to generate autoregressive data.\"\"\"\n",
    "\n",
    "    def __init__(self, *args, coeffs=None, **kwargs):\n",
    "        self.given_coeffs = coeffs\n",
    "        super(ARData, self).__init__(*args, **kwargs)\n",
    "\n",
    "        if coeffs is not None:\n",
    "            self.num_prev = len(coeffs) - 1\n",
    "\n",
    "    def generate_data(self):\n",
    "        self.generate_coefficients()\n",
    "        self.generate_initial_points()\n",
    "\n",
    "        # + 3*self.num_prev because we want to cut first (3*self.num_prev) datapoints later\n",
    "        # so dist is more stationary (else initial num_prev datapoints will stand out as diff dist)\n",
    "        for i in range(self.num_datapoints+3*self.num_prev):\n",
    "            # Generate y value if there was no noise\n",
    "            # (equivalent to Bayes predictions: predictions from oracle that knows true parameters (coefficients))\n",
    "            self.bayes_preds[i + self.num_prev] = np.dot(self.y[i:self.num_prev+i][::-1], self.coeffs)\n",
    "            # Add noise\n",
    "            self.y[i + self.num_prev] = self.bayes_preds[i + self.num_prev] + self.noise()\n",
    "\n",
    "        # Cut first 20 points so dist is roughly stationary\n",
    "        self.bayes_preds = self.bayes_preds[3*self.num_prev:]\n",
    "        self.y = self.y[3*self.num_prev:]\n",
    "\n",
    "    def generate_coefficients(self):\n",
    "        if self.given_coeffs is not None:\n",
    "            self.coeffs = self.given_coeffs\n",
    "        else:\n",
    "            filter_stable = False\n",
    "            # Keep generating coefficients until we come across a set of coefficients\n",
    "            # that correspond to stable poles\n",
    "            while not filter_stable:\n",
    "                true_theta = np.random.random(self.num_prev) - 0.5\n",
    "                coefficients = np.append(1, -true_theta)\n",
    "                # check if magnitude of all poles is less than one\n",
    "                if np.max(np.abs(np.roots(coefficients))) < 1:\n",
    "                    filter_stable = True\n",
    "            self.coeffs = true_theta\n",
    "\n",
    "    def generate_initial_points(self):\n",
    "        # Initial datapoints distributed as N(0,1)\n",
    "        self.y[:self.num_prev] = np.random.randn(self.num_prev)\n",
    "\n",
    "    def noise(self):\n",
    "        # Noise distributed as N(0, self.noise_var)\n",
    "        return self.noise_var * np.random.randn()\n",
    "\n",
    "# A set of coefficients that are stable (to produce replicable plots, experiments)\n",
    "fixed_ar_coefficients = {2: [ 0.46152873, -0.29890739],\n",
    "    5: [ 0.02519834, -0.24396899,  0.2785921,   0.14682383,  0.39390468],\n",
    "                        10: [-0.10958935, -0.34564819,  0.3682048,   0.3134046,  -0.21553732,  0.34613629,\n",
    "  0.41916508,  0.0165352,   0.14163503, -0.38844378],\n",
    "                         20: [ 0.1937815,   0.01201026,  0.00464018, -0.21887467, -0.20113385, -0.02322278,\n",
    "  0.34285319, -0.21069086,  0.06604683, -0.22377364,  0.11714593, -0.07122126,\n",
    " -0.16346554,  0.03174824,  0.308584,    0.06881604,  0.24840789, -0.32735569,\n",
    "  0.21939492, 0.3996207 ]}\n",
    "\n",
    "\"\"\"\n",
    "Example of using fixed coefficients (consistency across tests of different models)\n",
    "data = ARData(100, coeffs=fixed_ar_coefficients[5], num_prev=5)\n",
    "plt.plot(data.y_train)\n",
    "\"\"\""
   ]
  },
  {
   "cell_type": "code",
   "execution_count": null,
   "metadata": {},
   "outputs": [],
   "source": []
  }
 ],
 "metadata": {
  "kernelspec": {
   "display_name": "Python 3",
   "language": "python",
   "name": "python3"
  },
  "language_info": {
   "codemirror_mode": {
    "name": "ipython",
    "version": 3
   },
   "file_extension": ".py",
   "mimetype": "text/x-python",
   "name": "python",
   "nbconvert_exporter": "python",
   "pygments_lexer": "ipython3",
   "version": "3.8.11"
  }
 },
 "nbformat": 4,
 "nbformat_minor": 4
}
